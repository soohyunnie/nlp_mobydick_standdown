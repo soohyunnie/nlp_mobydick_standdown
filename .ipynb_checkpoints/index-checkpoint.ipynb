{
 "cells": [
  {
   "cell_type": "markdown",
   "metadata": {
    "index": 0
   },
   "source": [
    "# Standdown Exercise\n",
    "\n",
    "The cell below stores the text of a set of famous books in the variable nltk_books."
   ]
  },
  {
   "cell_type": "code",
   "execution_count": 4,
   "metadata": {
    "index": 1
   },
   "outputs": [
    {
     "name": "stderr",
     "output_type": "stream",
     "text": [
      "[nltk_data] Downloading package gutenberg to\n",
      "[nltk_data]     C:\\Users\\soohy\\AppData\\Roaming\\nltk_data...\n",
      "[nltk_data]   Unzipping corpora\\gutenberg.zip.\n"
     ]
    }
   ],
   "source": [
    "# Run cell with no changes\n",
    "\n",
    "import nltk\n",
    "import pandas as pd\n",
    "nltk.download('gutenberg')\n",
    "\n",
    "# store raw text of books in a list\n",
    "nltk_books = [nltk.corpus.gutenberg.raw(title) \n",
    "                 for title in nltk.corpus.gutenberg.fileids()]\n",
    "\n",
    "# convert list to dataframe with titles as the index.\n",
    "nltk_books = pd.DataFrame(nltk_books, \n",
    "                          index=nltk.corpus.gutenberg.fileids(),\n",
    "                          columns=['raw_text'] )"
   ]
  },
  {
   "cell_type": "code",
   "execution_count": 7,
   "metadata": {},
   "outputs": [
    {
     "data": {
      "text/html": [
       "<div>\n",
       "<style scoped>\n",
       "    .dataframe tbody tr th:only-of-type {\n",
       "        vertical-align: middle;\n",
       "    }\n",
       "\n",
       "    .dataframe tbody tr th {\n",
       "        vertical-align: top;\n",
       "    }\n",
       "\n",
       "    .dataframe thead th {\n",
       "        text-align: right;\n",
       "    }\n",
       "</style>\n",
       "<table border=\"1\" class=\"dataframe\">\n",
       "  <thead>\n",
       "    <tr style=\"text-align: right;\">\n",
       "      <th></th>\n",
       "      <th>raw_text</th>\n",
       "    </tr>\n",
       "  </thead>\n",
       "  <tbody>\n",
       "    <tr>\n",
       "      <th>austen-emma.txt</th>\n",
       "      <td>[Emma by Jane Austen 1816]\\n\\nVOLUME I\\n\\nCHAP...</td>\n",
       "    </tr>\n",
       "    <tr>\n",
       "      <th>austen-persuasion.txt</th>\n",
       "      <td>[Persuasion by Jane Austen 1818]\\n\\n\\nChapter ...</td>\n",
       "    </tr>\n",
       "    <tr>\n",
       "      <th>austen-sense.txt</th>\n",
       "      <td>[Sense and Sensibility by Jane Austen 1811]\\n\\...</td>\n",
       "    </tr>\n",
       "    <tr>\n",
       "      <th>bible-kjv.txt</th>\n",
       "      <td>[The King James Bible]\\n\\nThe Old Testament of...</td>\n",
       "    </tr>\n",
       "    <tr>\n",
       "      <th>blake-poems.txt</th>\n",
       "      <td>[Poems by William Blake 1789]\\n\\n \\nSONGS OF I...</td>\n",
       "    </tr>\n",
       "  </tbody>\n",
       "</table>\n",
       "</div>"
      ],
      "text/plain": [
       "                                                                raw_text\n",
       "austen-emma.txt        [Emma by Jane Austen 1816]\\n\\nVOLUME I\\n\\nCHAP...\n",
       "austen-persuasion.txt  [Persuasion by Jane Austen 1818]\\n\\n\\nChapter ...\n",
       "austen-sense.txt       [Sense and Sensibility by Jane Austen 1811]\\n\\...\n",
       "bible-kjv.txt          [The King James Bible]\\n\\nThe Old Testament of...\n",
       "blake-poems.txt        [Poems by William Blake 1789]\\n\\n \\nSONGS OF I..."
      ]
     },
     "execution_count": 7,
     "metadata": {},
     "output_type": "execute_result"
    }
   ],
   "source": [
    "nltk_books.head()"
   ]
  },
  {
   "cell_type": "markdown",
   "metadata": {
    "index": 2
   },
   "source": [
    "The next cell below splits the books into a train and test sets.  This is an arbitrary split, but is here to remind you that we fit a vectorizer only on the training set."
   ]
  },
  {
   "cell_type": "code",
   "execution_count": 5,
   "metadata": {
    "index": 3
   },
   "outputs": [],
   "source": [
    "# Run cell with no changes\n",
    "from sklearn.model_selection import train_test_split\n",
    "\n",
    "train, test = train_test_split(nltk_books, random_state=42)\n"
   ]
  },
  {
   "cell_type": "code",
   "execution_count": 6,
   "metadata": {
    "index": 4
   },
   "outputs": [
    {
     "data": {
      "text/plain": [
       "Index(['milton-paradise.txt', 'shakespeare-macbeth.txt',\n",
       "       'shakespeare-hamlet.txt', 'edgeworth-parents.txt', 'austen-sense.txt',\n",
       "       'chesterton-brown.txt', 'whitman-leaves.txt', 'blake-poems.txt',\n",
       "       'melville-moby_dick.txt', 'carroll-alice.txt',\n",
       "       'chesterton-thursday.txt', 'shakespeare-caesar.txt',\n",
       "       'burgess-busterbrown.txt'],\n",
       "      dtype='object')"
      ]
     },
     "execution_count": 6,
     "metadata": {},
     "output_type": "execute_result"
    }
   ],
   "source": [
    "# Here are the books whose full texts compose the training set\n",
    "train.index"
   ]
  },
  {
   "cell_type": "markdown",
   "metadata": {
    "index": 5
   },
   "source": [
    "Your task is to fit a TfidfVectorizer to the training set with the following specifications: max_features is set to 50, stopwords are removed using the nltk english stopwords list.  The other parameters should be the defaults.  \n",
    "\n",
    "**After fitting the vectorizer, find the word with the highest tf-idf score in Moby Dick. Slack out both the word and tf-idf score, as well as your forked repo showing your work.**\n",
    "\n",
    "> Hint: Converting the vectorized text into a DataFrame with column names and indices will make your life easier.  Use the following hints to make that happen:  \n",
    ">> 1. The TF-IDF vectorizer returns a sparse matrix.  Chain the toarray() method off the vectorizer, then convert that array into a DataFrame.  \n",
    "\n",
    ">> 2. The fit Tf-Idf object has a method called `get_feature_names()`. Assign the result of that method as the `columns` argument of DataFrame.  \n",
    "\n",
    ">> 3. Pass train.index as the index argument of DataFrame.   \n",
    "    \n",
    "\n"
   ]
  },
  {
   "cell_type": "code",
   "execution_count": 10,
   "metadata": {
    "index": 7
   },
   "outputs": [],
   "source": [
    "from sklearn.feature_extraction.text import TfidfVectorizer\n",
    "from nltk.corpus import stopwords\n",
    "\n",
    "sw = stopwords.words('english')\n",
    "\n",
    "tfidf = TfidfVectorizer(max_features=50, stop_words=sw)"
   ]
  },
  {
   "cell_type": "code",
   "execution_count": 11,
   "metadata": {},
   "outputs": [],
   "source": [
    "train_vectorized = tfidf.fit_transform(train['raw_text'])"
   ]
  },
  {
   "cell_type": "code",
   "execution_count": 12,
   "metadata": {},
   "outputs": [
    {
     "data": {
      "text/plain": [
       "<13x50 sparse matrix of type '<class 'numpy.float64'>'\n",
       "\twith 594 stored elements in Compressed Sparse Row format>"
      ]
     },
     "execution_count": 12,
     "metadata": {},
     "output_type": "execute_result"
    }
   ],
   "source": [
    "train_vectorized"
   ]
  },
  {
   "cell_type": "code",
   "execution_count": 15,
   "metadata": {},
   "outputs": [
    {
     "data": {
      "text/plain": [
       "Index(['milton-paradise.txt', 'shakespeare-macbeth.txt',\n",
       "       'shakespeare-hamlet.txt', 'edgeworth-parents.txt', 'austen-sense.txt',\n",
       "       'chesterton-brown.txt', 'whitman-leaves.txt', 'blake-poems.txt',\n",
       "       'melville-moby_dick.txt', 'carroll-alice.txt',\n",
       "       'chesterton-thursday.txt', 'shakespeare-caesar.txt',\n",
       "       'burgess-busterbrown.txt'],\n",
       "      dtype='object')"
      ]
     },
     "execution_count": 15,
     "metadata": {},
     "output_type": "execute_result"
    }
   ],
   "source": [
    "train.index"
   ]
  },
  {
   "cell_type": "code",
   "execution_count": 17,
   "metadata": {},
   "outputs": [
    {
     "data": {
      "text/html": [
       "<div>\n",
       "<style scoped>\n",
       "    .dataframe tbody tr th:only-of-type {\n",
       "        vertical-align: middle;\n",
       "    }\n",
       "\n",
       "    .dataframe tbody tr th {\n",
       "        vertical-align: top;\n",
       "    }\n",
       "\n",
       "    .dataframe thead th {\n",
       "        text-align: right;\n",
       "    }\n",
       "</style>\n",
       "<table border=\"1\" class=\"dataframe\">\n",
       "  <thead>\n",
       "    <tr style=\"text-align: right;\">\n",
       "      <th></th>\n",
       "      <th>come</th>\n",
       "      <th>could</th>\n",
       "      <th>day</th>\n",
       "      <th>every</th>\n",
       "      <th>first</th>\n",
       "      <th>go</th>\n",
       "      <th>good</th>\n",
       "      <th>great</th>\n",
       "      <th>head</th>\n",
       "      <th>know</th>\n",
       "      <th>...</th>\n",
       "      <th>thy</th>\n",
       "      <th>time</th>\n",
       "      <th>two</th>\n",
       "      <th>upon</th>\n",
       "      <th>us</th>\n",
       "      <th>way</th>\n",
       "      <th>well</th>\n",
       "      <th>whale</th>\n",
       "      <th>would</th>\n",
       "      <th>yet</th>\n",
       "    </tr>\n",
       "  </thead>\n",
       "  <tbody>\n",
       "    <tr>\n",
       "      <th>milton-paradise.txt</th>\n",
       "      <td>0.032290</td>\n",
       "      <td>0.056932</td>\n",
       "      <td>0.101968</td>\n",
       "      <td>0.033749</td>\n",
       "      <td>0.159724</td>\n",
       "      <td>0.019544</td>\n",
       "      <td>0.089222</td>\n",
       "      <td>0.104517</td>\n",
       "      <td>0.049285</td>\n",
       "      <td>0.075626</td>\n",
       "      <td>...</td>\n",
       "      <td>0.436628</td>\n",
       "      <td>0.034839</td>\n",
       "      <td>0.039938</td>\n",
       "      <td>0.034069</td>\n",
       "      <td>0.197221</td>\n",
       "      <td>0.068828</td>\n",
       "      <td>0.060331</td>\n",
       "      <td>0.000000</td>\n",
       "      <td>0.049285</td>\n",
       "      <td>0.193739</td>\n",
       "    </tr>\n",
       "    <tr>\n",
       "      <th>shakespeare-macbeth.txt</th>\n",
       "      <td>0.211892</td>\n",
       "      <td>0.062783</td>\n",
       "      <td>0.074555</td>\n",
       "      <td>0.000000</td>\n",
       "      <td>0.050577</td>\n",
       "      <td>0.043163</td>\n",
       "      <td>0.192273</td>\n",
       "      <td>0.121642</td>\n",
       "      <td>0.035315</td>\n",
       "      <td>0.137338</td>\n",
       "      <td>...</td>\n",
       "      <td>0.272733</td>\n",
       "      <td>0.180501</td>\n",
       "      <td>0.043163</td>\n",
       "      <td>0.000000</td>\n",
       "      <td>0.000000</td>\n",
       "      <td>0.066707</td>\n",
       "      <td>0.129490</td>\n",
       "      <td>0.000000</td>\n",
       "      <td>0.207968</td>\n",
       "      <td>0.223664</td>\n",
       "    </tr>\n",
       "    <tr>\n",
       "      <th>shakespeare-hamlet.txt</th>\n",
       "      <td>0.276094</td>\n",
       "      <td>0.082297</td>\n",
       "      <td>0.066369</td>\n",
       "      <td>0.000000</td>\n",
       "      <td>0.048475</td>\n",
       "      <td>0.127428</td>\n",
       "      <td>0.260165</td>\n",
       "      <td>0.050440</td>\n",
       "      <td>0.069023</td>\n",
       "      <td>0.188487</td>\n",
       "      <td>...</td>\n",
       "      <td>0.296547</td>\n",
       "      <td>0.116809</td>\n",
       "      <td>0.058404</td>\n",
       "      <td>0.000000</td>\n",
       "      <td>0.000000</td>\n",
       "      <td>0.029202</td>\n",
       "      <td>0.188487</td>\n",
       "      <td>0.011961</td>\n",
       "      <td>0.193797</td>\n",
       "      <td>0.098226</td>\n",
       "    </tr>\n",
       "    <tr>\n",
       "      <th>edgeworth-parents.txt</th>\n",
       "      <td>0.119129</td>\n",
       "      <td>0.167489</td>\n",
       "      <td>0.106941</td>\n",
       "      <td>0.038551</td>\n",
       "      <td>0.067991</td>\n",
       "      <td>0.112839</td>\n",
       "      <td>0.179677</td>\n",
       "      <td>0.095539</td>\n",
       "      <td>0.042069</td>\n",
       "      <td>0.165916</td>\n",
       "      <td>...</td>\n",
       "      <td>0.001952</td>\n",
       "      <td>0.124241</td>\n",
       "      <td>0.053864</td>\n",
       "      <td>0.250642</td>\n",
       "      <td>0.103940</td>\n",
       "      <td>0.058189</td>\n",
       "      <td>0.154514</td>\n",
       "      <td>0.000000</td>\n",
       "      <td>0.200908</td>\n",
       "      <td>0.044428</td>\n",
       "    </tr>\n",
       "    <tr>\n",
       "      <th>austen-sense.txt</th>\n",
       "      <td>0.057571</td>\n",
       "      <td>0.326235</td>\n",
       "      <td>0.084663</td>\n",
       "      <td>0.264103</td>\n",
       "      <td>0.097000</td>\n",
       "      <td>0.055313</td>\n",
       "      <td>0.099902</td>\n",
       "      <td>0.084099</td>\n",
       "      <td>0.020884</td>\n",
       "      <td>0.130946</td>\n",
       "      <td>...</td>\n",
       "      <td>0.000000</td>\n",
       "      <td>0.134897</td>\n",
       "      <td>0.086356</td>\n",
       "      <td>0.073925</td>\n",
       "      <td>0.063048</td>\n",
       "      <td>0.041767</td>\n",
       "      <td>0.135461</td>\n",
       "      <td>0.000000</td>\n",
       "      <td>0.290677</td>\n",
       "      <td>0.044025</td>\n",
       "    </tr>\n",
       "  </tbody>\n",
       "</table>\n",
       "<p>5 rows × 50 columns</p>\n",
       "</div>"
      ],
      "text/plain": [
       "                             come     could       day     every     first  \\\n",
       "milton-paradise.txt      0.032290  0.056932  0.101968  0.033749  0.159724   \n",
       "shakespeare-macbeth.txt  0.211892  0.062783  0.074555  0.000000  0.050577   \n",
       "shakespeare-hamlet.txt   0.276094  0.082297  0.066369  0.000000  0.048475   \n",
       "edgeworth-parents.txt    0.119129  0.167489  0.106941  0.038551  0.067991   \n",
       "austen-sense.txt         0.057571  0.326235  0.084663  0.264103  0.097000   \n",
       "\n",
       "                               go      good     great      head      know  \\\n",
       "milton-paradise.txt      0.019544  0.089222  0.104517  0.049285  0.075626   \n",
       "shakespeare-macbeth.txt  0.043163  0.192273  0.121642  0.035315  0.137338   \n",
       "shakespeare-hamlet.txt   0.127428  0.260165  0.050440  0.069023  0.188487   \n",
       "edgeworth-parents.txt    0.112839  0.179677  0.095539  0.042069  0.165916   \n",
       "austen-sense.txt         0.055313  0.099902  0.084099  0.020884  0.130946   \n",
       "\n",
       "                         ...       thy      time       two      upon  \\\n",
       "milton-paradise.txt      ...  0.436628  0.034839  0.039938  0.034069   \n",
       "shakespeare-macbeth.txt  ...  0.272733  0.180501  0.043163  0.000000   \n",
       "shakespeare-hamlet.txt   ...  0.296547  0.116809  0.058404  0.000000   \n",
       "edgeworth-parents.txt    ...  0.001952  0.124241  0.053864  0.250642   \n",
       "austen-sense.txt         ...  0.000000  0.134897  0.086356  0.073925   \n",
       "\n",
       "                               us       way      well     whale     would  \\\n",
       "milton-paradise.txt      0.197221  0.068828  0.060331  0.000000  0.049285   \n",
       "shakespeare-macbeth.txt  0.000000  0.066707  0.129490  0.000000  0.207968   \n",
       "shakespeare-hamlet.txt   0.000000  0.029202  0.188487  0.011961  0.193797   \n",
       "edgeworth-parents.txt    0.103940  0.058189  0.154514  0.000000  0.200908   \n",
       "austen-sense.txt         0.063048  0.041767  0.135461  0.000000  0.290677   \n",
       "\n",
       "                              yet  \n",
       "milton-paradise.txt      0.193739  \n",
       "shakespeare-macbeth.txt  0.223664  \n",
       "shakespeare-hamlet.txt   0.098226  \n",
       "edgeworth-parents.txt    0.044428  \n",
       "austen-sense.txt         0.044025  \n",
       "\n",
       "[5 rows x 50 columns]"
      ]
     },
     "execution_count": 17,
     "metadata": {},
     "output_type": "execute_result"
    }
   ],
   "source": [
    "import pandas as pd\n",
    "\n",
    "train_vectorized_df = pd.DataFrame(train_vectorized.toarray(), columns=tfidf.get_feature_names())\n",
    "train_vectorized_df.set_index(train.index, inplace=True)\n",
    "train_vectorized_df.head()"
   ]
  },
  {
   "cell_type": "code",
   "execution_count": 28,
   "metadata": {},
   "outputs": [
    {
     "data": {
      "text/plain": [
       "whale      0.767525\n",
       "one        0.255945\n",
       "upon       0.210215\n",
       "like       0.179800\n",
       "man        0.146453\n",
       "sea        0.145935\n",
       "old        0.125054\n",
       "would      0.120052\n",
       "though     0.106713\n",
       "thou       0.100650\n",
       "head       0.095875\n",
       "yet        0.095875\n",
       "time       0.092818\n",
       "long       0.092540\n",
       "still      0.086704\n",
       "great      0.085037\n",
       "said       0.084481\n",
       "two        0.082814\n",
       "last       0.082683\n",
       "every      0.080021\n",
       "must       0.078645\n",
       "us         0.078641\n",
       "see        0.075588\n",
       "way        0.075311\n",
       "never      0.071053\n",
       "first      0.070146\n",
       "little     0.069197\n",
       "say        0.067807\n",
       "men        0.067807\n",
       "may        0.066696\n",
       "much       0.066564\n",
       "well       0.063917\n",
       "could      0.060026\n",
       "good       0.060026\n",
       "go         0.053912\n",
       "thee       0.052490\n",
       "thing      0.052245\n",
       "might      0.050855\n",
       "come       0.049744\n",
       "made       0.049466\n",
       "day        0.048910\n",
       "let        0.043908\n",
       "know       0.042241\n",
       "thought    0.041685\n",
       "thy        0.038976\n",
       "think      0.033904\n",
       "make       0.031125\n",
       "mr         0.029643\n",
       "shall      0.028954\n",
       "mrs        0.006674\n",
       "Name: melville-moby_dick.txt, dtype: float64"
      ]
     },
     "execution_count": 28,
     "metadata": {},
     "output_type": "execute_result"
    }
   ],
   "source": [
    "train_vectorized_df.sort_values('melville-moby_dick.txt', ascending=False, axis=1).loc['melville-moby_dick.txt']"
   ]
  },
  {
   "cell_type": "code",
   "execution_count": null,
   "metadata": {},
   "outputs": [],
   "source": []
  }
 ],
 "metadata": {
  "kernelspec": {
   "display_name": "Python (learn-env)",
   "language": "python",
   "name": "learn-env"
  },
  "language_info": {
   "codemirror_mode": {
    "name": "ipython",
    "version": 3
   },
   "file_extension": ".py",
   "mimetype": "text/x-python",
   "name": "python",
   "nbconvert_exporter": "python",
   "pygments_lexer": "ipython3",
   "version": "3.8.5"
  }
 },
 "nbformat": 4,
 "nbformat_minor": 4
}
